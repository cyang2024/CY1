{
 "cells": [
  {
   "cell_type": "markdown",
   "id": "6d00cd9e",
   "metadata": {},
   "source": [
    "In this notebook, Data Science Tools and Ecosystem are summarized."
   ]
  },
  {
   "cell_type": "markdown",
   "id": "405ab679",
   "metadata": {},
   "source": [
    "Some of the popular languages that Data Scinetist use are:\n",
    "1.Python\n",
    "2.R\n",
    "3.SQL\n"
   ]
  },
  {
   "cell_type": "markdown",
   "id": "4e10f768",
   "metadata": {},
   "source": [
    "**Objectives:\n",
    "\n",
    "List popular languages for Data Science"
   ]
  },
  {
   "cell_type": "markdown",
   "id": "070651a4",
   "metadata": {},
   "source": [
    "**"
   ]
  },
  {
   "cell_type": "markdown",
   "id": "59debcc3",
   "metadata": {},
   "source": [
    "Some of the commonly used libraries used by Data Scientist include:\n",
    "1.Panda.\n",
    "2.Numpy.\n",
    "3.Sklearn"
   ]
  },
  {
   "cell_type": "markdown",
   "id": "b2061ec9",
   "metadata": {},
   "source": [
    "|Data Science Tools|\n",
    "|SQL               |\n",
    "|R                 |\n",
    "|Python            |"
   ]
  },
  {
   "cell_type": "code",
   "execution_count": 1,
   "id": "0c0446c0",
   "metadata": {},
   "outputs": [
    {
     "data": {
      "text/plain": [
       "17"
      ]
     },
     "execution_count": 1,
     "metadata": {},
     "output_type": "execute_result"
    }
   ],
   "source": [
    "### Below are a few examples of evlauting arithmetic expression in Python\n",
    "(3*4)+5\n"
   ]
  },
  {
   "cell_type": "code",
   "execution_count": 9,
   "id": "68a9cfb9",
   "metadata": {},
   "outputs": [
    {
     "name": "stdout",
     "output_type": "stream",
     "text": [
      "This will convert 200 minutes to hours by diving by 60:3.3333333333333335hours\n",
      "This will convert 200 minutes to hours by diving by 60: 3.33 hours\n"
     ]
    }
   ],
   "source": [
    "minutes=200\n",
    "hours=minutes/60\n",
    "print ('This will convert 200 minutes to hours by diving by 60:' + str(hours)+ 'hours')\n",
    "print(f\"This will convert 200 minutes to hours by diving by 60: {hours:.02f} hours\")\n"
   ]
  },
  {
   "cell_type": "code",
   "execution_count": null,
   "id": "c71c4942",
   "metadata": {},
   "outputs": [],
   "source": [
    "## Author\n",
    "## name "
   ]
  }
 ],
 "metadata": {
  "celltoolbar": "Raw Cell Format",
  "kernelspec": {
   "display_name": "Python 3 (ipykernel)",
   "language": "python",
   "name": "python3"
  },
  "language_info": {
   "codemirror_mode": {
    "name": "ipython",
    "version": 3
   },
   "file_extension": ".py",
   "mimetype": "text/x-python",
   "name": "python",
   "nbconvert_exporter": "python",
   "pygments_lexer": "ipython3",
   "version": "3.9.13"
  }
 },
 "nbformat": 4,
 "nbformat_minor": 5
}
